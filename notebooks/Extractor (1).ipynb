{
 "cells": [
  {
   "cell_type": "markdown",
   "metadata": {
    "application/vnd.databricks.v1+cell": {
     "cellMetadata": {},
     "inputWidgets": {},
     "nuid": "6c0ed886-9ac5-40b3-96f0-990e6305036a",
     "showTitle": false,
     "tableResultSettingsMap": {},
     "title": ""
    }
   },
   "source": [
    "# Extractor class notebook"
   ]
  },
  {
   "cell_type": "code",
   "execution_count": 0,
   "metadata": {
    "application/vnd.databricks.v1+cell": {
     "cellMetadata": {
      "byteLimit": 2048000,
      "rowLimit": 10000
     },
     "inputWidgets": {},
     "nuid": "2c9c45d3-8275-4ec0-8395-937810123afc",
     "showTitle": false,
     "tableResultSettingsMap": {},
     "title": ""
    }
   },
   "outputs": [],
   "source": [
    "#running reader factory notebook\n",
    "%run \"./reader_factory\""
   ]
  },
  {
   "cell_type": "code",
   "execution_count": 0,
   "metadata": {
    "application/vnd.databricks.v1+cell": {
     "cellMetadata": {
      "byteLimit": 2048000,
      "rowLimit": 10000
     },
     "inputWidgets": {},
     "nuid": "307417e9-139c-4ad0-9f5b-3eb187382629",
     "showTitle": false,
     "tableResultSettingsMap": {},
     "title": ""
    }
   },
   "outputs": [],
   "source": [
    "#defining extractor class\n",
    "class Extractor:\n",
    "    def __init__(self):\n",
    "        pass\n",
    "\n",
    "    def extract(self):\n",
    "        pass\n",
    "\n",
    "# subclass to extract data required data as dataframe required to get \n",
    "# customers who have bought airpods after buying iphone\n",
    "\n",
    "class ExtractorAirpodsAfterIphone(Extractor):\n",
    "\n",
    "    def extract(self):\n",
    "        '''Get Transaction and Customer data from csv file and delta table respectively'''\n",
    "        transactionInputDF=get_source_data(\n",
    "            data_type='csv',\n",
    "            file_path='dbfs:/FileStore/tables/Transaction_Updated.csv'\n",
    "        ).get_dataframe()\n",
    "\n",
    "        customerInputDF=get_source_data(\n",
    "            data_type='delta',\n",
    "            file_path='default.customerdelta'\n",
    "        ).get_dataframe()\n",
    "\n",
    "        inputDFs={\"transactionInputDF\":transactionInputDF,\"customerInputDF\":customerInputDF}\n",
    "\n",
    "        return inputDFs"
   ]
  },
  {
   "cell_type": "code",
   "execution_count": 0,
   "metadata": {
    "application/vnd.databricks.v1+cell": {
     "cellMetadata": {},
     "inputWidgets": {},
     "nuid": "f93ccb31-9c7b-4a62-9506-43af544fb0e6",
     "showTitle": false,
     "tableResultSettingsMap": {},
     "title": ""
    }
   },
   "outputs": [],
   "source": [
    "#sub class to extract data required to get products customers bought after their first purchase\n",
    "\n",
    "class ExtractorAvgTimeDelay(Extractor):\n",
    "    \n",
    "    def extract(self):\n",
    "        '''Get transaction data from csv file'''\n",
    "        transactionInputDF=get_source_data(\n",
    "            data_type='csv',\n",
    "            file_path='dbfs:/FileStore/tables/Transaction_Updated.csv'\n",
    "        ).get_dataframe()\n",
    "\n",
    "        inputDFs={\"transactionInputDF\":transactionInputDF}\n",
    "\n",
    "        return inputDFs"
   ]
  }
 ],
 "metadata": {
  "application/vnd.databricks.v1+notebook": {
   "computePreferences": null,
   "dashboards": [],
   "environmentMetadata": {
    "base_environment": "",
    "client": "1"
   },
   "language": "python",
   "notebookMetadata": {
    "pythonIndentUnit": 4
   },
   "notebookName": "Extractor",
   "widgets": {}
  }
 },
 "nbformat": 4,
 "nbformat_minor": 0
}
