{
 "cells": [
  {
   "cell_type": "markdown",
   "metadata": {
    "application/vnd.databricks.v1+cell": {
     "cellMetadata": {},
     "inputWidgets": {},
     "nuid": "605e7b83-f976-4985-a4da-b4feeb222932",
     "showTitle": false,
     "tableResultSettingsMap": {},
     "title": ""
    }
   },
   "source": [
    "# Transformer class notebook"
   ]
  },
  {
   "cell_type": "code",
   "execution_count": 0,
   "metadata": {
    "application/vnd.databricks.v1+cell": {
     "cellMetadata": {
      "byteLimit": 2048000,
      "rowLimit": 10000
     },
     "inputWidgets": {},
     "nuid": "f61d82cd-79e7-427a-8ae8-7b863af87e89",
     "showTitle": false,
     "tableResultSettingsMap": {},
     "title": ""
    }
   },
   "outputs": [],
   "source": [
    "#importing required libraries\n",
    "from pyspark.sql.window import Window\n",
    "from pyspark.sql.functions import lead,col,broadcast,collect_list,array_contains,size,rank,abs,datediff"
   ]
  },
  {
   "cell_type": "code",
   "execution_count": 0,
   "metadata": {
    "application/vnd.databricks.v1+cell": {
     "cellMetadata": {
      "byteLimit": 2048000,
      "rowLimit": 10000
     },
     "inputWidgets": {},
     "nuid": "1112a3df-ecaf-4e62-8c98-ac18e87de7d1",
     "showTitle": false,
     "tableResultSettingsMap": {},
     "title": ""
    }
   },
   "outputs": [],
   "source": [
    "# defining transform class\n",
    "class Transform:\n",
    "    def __init__(self):\n",
    "        pass\n",
    "\n",
    "    def transform(self):\n",
    "        pass\n",
    "\n",
    "#sub class for first transformation\n",
    "class TransformerAirpodsAfterIphone(Transform):\n",
    "\n",
    "    def transform(self,inputDFs):\n",
    "        '''Customers who bought Airpods after buying IPhone'''\n",
    "\n",
    "        transactionInputDF=inputDFs.get('transactionInputDF')\n",
    "\n",
    "        windowSpec=Window.partitionBy('customer_id').orderBy('transaction_date')\n",
    "\n",
    "        transformedDF=transactionInputDF.withColumn(\"next_product_name\",lead(\"product_name\").over(windowSpec))\n",
    "\n",
    "        filteredDF=transformedDF.filter((transformedDF.product_name=='iPhone') & (transformedDF.next_product_name=='AirPods'))\n",
    "\n",
    "        customerInputDF=inputDFs.get(\"customerInputDF\")\n",
    "\n",
    "        joinedDF=customerInputDF.join(broadcast(filteredDF),\"customer_id\") # using broadcast to improve performance\n",
    "\n",
    "        joinedDF=joinedDF.select('customer_id','customer_name','location')\n",
    "\n",
    "        return joinedDF\n",
    "\n",
    "\n"
   ]
  },
  {
   "cell_type": "code",
   "execution_count": 0,
   "metadata": {
    "application/vnd.databricks.v1+cell": {
     "cellMetadata": {
      "byteLimit": 2048000,
      "rowLimit": 10000
     },
     "inputWidgets": {},
     "nuid": "cb8b4a05-2f42-44ad-9562-96f2e299c32c",
     "showTitle": false,
     "tableResultSettingsMap": {},
     "title": ""
    }
   },
   "outputs": [],
   "source": [
    "#sub class for second transformation\n",
    "class TransformerAirpodsAndIphone(Transform):\n",
    "\n",
    "    def transform(self,inputDFs):\n",
    "        '''Customers who bought only Airpods and IPhone'''\n",
    "\n",
    "        transactionInputDF=inputDFs.get('transactionInputDF')\n",
    "\n",
    "        groupedDF=transactionInputDF.groupBy(\"customer_id\").agg(collect_list(\"product_name\").alias(\"products\"))\n",
    "\n",
    "        filteredDF=groupedDF.filter((array_contains(groupedDF.products,'AirPods'))\n",
    "                                     & (array_contains(groupedDF.products,'iPhone'))\n",
    "                                     & (size(groupedDF.products)==2))\n",
    "\n",
    "        customerInputDF=inputDFs.get(\"customerInputDF\")\n",
    "\n",
    "        joinedDF=customerInputDF.join(broadcast(filteredDF),\"customer_id\")\n",
    "\n",
    "        joinedDF=joinedDF.select('customer_id','customer_name','location')\n",
    "\n",
    "        return joinedDF"
   ]
  },
  {
   "cell_type": "code",
   "execution_count": 0,
   "metadata": {
    "application/vnd.databricks.v1+cell": {
     "cellMetadata": {
      "byteLimit": 2048000,
      "rowLimit": 10000
     },
     "inputWidgets": {},
     "nuid": "6fc47311-bf7e-4e7d-82ff-532561292c6c",
     "showTitle": false,
     "tableResultSettingsMap": {},
     "title": ""
    }
   },
   "outputs": [],
   "source": [
    "#sub class for third transformation\n",
    "class TransformerProductsAfterInitialPurchase(Transform):\n",
    "\n",
    "    def transform(self,inputDFs):\n",
    "        '''Products bought by customers after their first purchase'''\n",
    "\n",
    "        transactionInputDF=inputDFs.get('transactionInputDF')\n",
    "\n",
    "        windowSpec=Window.partitionBy('customer_id').orderBy('transaction_date')\n",
    "\n",
    "        transformedDF=transactionInputDF.withColumn(\"rank\",rank().over(windowSpec))\n",
    "\n",
    "        filteredDF=transformedDF.filter(col('rank')!=1)\n",
    "\n",
    "        groupedDF=filteredDF.groupBy(\"customer_id\").agg(collect_list(\"product_name\").alias(\"products_after_first_purchase\"))\n",
    "\n",
    "        customerInputDF=inputDFs.get(\"customerInputDF\")\n",
    "\n",
    "        joinedDF=customerInputDF.join(broadcast(groupedDF),\"customer_id\")\n",
    "\n",
    "        joinedDF = joinedDF.select('customer_id','customer_name','products_after_first_purchase')\n",
    "\n",
    "        return joinedDF\n",
    "\n"
   ]
  },
  {
   "cell_type": "code",
   "execution_count": 0,
   "metadata": {
    "application/vnd.databricks.v1+cell": {
     "cellMetadata": {
      "byteLimit": 2048000,
      "rowLimit": 10000
     },
     "inputWidgets": {},
     "nuid": "d64952ea-8a85-4403-8964-cf04e60ce891",
     "showTitle": false,
     "tableResultSettingsMap": {},
     "title": ""
    }
   },
   "outputs": [],
   "source": [
    "#sub class for fourth transformation\n",
    "\n",
    "class TransformerAvgTimeDelay(Transform):\n",
    "\n",
    "    def transform(self,inputDFs):\n",
    "        '''Average time delay between buying Iphone and Airpods'''\n",
    "\n",
    "        transactionInputDF_iphone=inputDFs.get('transactionInputDF').filter(col('product_name')=='iPhone').withColumnRenamed('transaction_date','transaction_date_iphone').select('customer_id','transaction_date_iphone')\n",
    "\n",
    "        transactionInputDF_airpods=inputDFs.get('transactionInputDF').filter(col('product_name')=='AirPods').withColumnRenamed('transaction_date','transaction_date_airpods').select('customer_id','transaction_date_airpods')\n",
    "\n",
    "        joinedDF = transactionInputDF_iphone.join(transactionInputDF_airpods,'customer_id')\n",
    "\n",
    "        joinedDF = joinedDF.withColumn('days_between_purchases',abs(datediff(col('transaction_date_airpods'),col('transaction_date_iphone'))))\n",
    "        \n",
    "        finalDF = joinedDF.agg({'days_between_purchases':'avg'}).withColumnRenamed('avg(days_between_purchases)','avg_days_between_purchases')\n",
    "\n",
    "        return finalDF\n"
   ]
  }
 ],
 "metadata": {
  "application/vnd.databricks.v1+notebook": {
   "computePreferences": null,
   "dashboards": [],
   "environmentMetadata": {
    "base_environment": "",
    "client": "1"
   },
   "language": "python",
   "notebookMetadata": {
    "pythonIndentUnit": 4
   },
   "notebookName": "Transformer",
   "widgets": {}
  }
 },
 "nbformat": 4,
 "nbformat_minor": 0
}
