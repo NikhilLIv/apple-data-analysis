{
 "cells": [
  {
   "cell_type": "markdown",
   "metadata": {
    "application/vnd.databricks.v1+cell": {
     "cellMetadata": {},
     "inputWidgets": {},
     "nuid": "75d0e82c-823e-4702-9215-2672b19616d9",
     "showTitle": false,
     "tableResultSettingsMap": {},
     "title": ""
    }
   },
   "source": [
    "# Main pyspark code to run the etl workflows"
   ]
  },
  {
   "cell_type": "code",
   "execution_count": 0,
   "metadata": {
    "application/vnd.databricks.v1+cell": {
     "cellMetadata": {
      "byteLimit": 2048000,
      "rowLimit": 10000
     },
     "inputWidgets": {},
     "nuid": "3e2b9fbf-3d78-42c5-a421-1e4a38ee0709",
     "showTitle": false,
     "tableResultSettingsMap": {},
     "title": ""
    }
   },
   "outputs": [],
   "source": [
    "#running transformer notebook to initialise all transformer classes\n",
    "%run \"./Transformer\""
   ]
  },
  {
   "cell_type": "code",
   "execution_count": 0,
   "metadata": {
    "application/vnd.databricks.v1+cell": {
     "cellMetadata": {
      "byteLimit": 2048000,
      "rowLimit": 10000
     },
     "inputWidgets": {},
     "nuid": "8c068aa8-51f4-496b-a80b-11b332a0ef74",
     "showTitle": false,
     "tableResultSettingsMap": {},
     "title": ""
    }
   },
   "outputs": [],
   "source": [
    "#running extractor notebook to initialise all extractor classes\n",
    "%run \"./Extractor\""
   ]
  },
  {
   "cell_type": "code",
   "execution_count": 0,
   "metadata": {
    "application/vnd.databricks.v1+cell": {
     "cellMetadata": {
      "byteLimit": 2048000,
      "rowLimit": 10000
     },
     "inputWidgets": {},
     "nuid": "9594d243-3ecd-4d05-b964-4063817781db",
     "showTitle": false,
     "tableResultSettingsMap": {},
     "title": ""
    }
   },
   "outputs": [],
   "source": [
    "#running loader notebook to initialise all loader classes\n",
    "%run \"./Loader\""
   ]
  },
  {
   "cell_type": "code",
   "execution_count": 0,
   "metadata": {
    "application/vnd.databricks.v1+cell": {
     "cellMetadata": {
      "byteLimit": 2048000,
      "rowLimit": 10000
     },
     "inputWidgets": {},
     "nuid": "f3ad8f73-4787-46de-9010-2b92dc746107",
     "showTitle": false,
     "tableResultSettingsMap": {},
     "title": ""
    }
   },
   "outputs": [],
   "source": [
    "#customers who have bought airpods after buying iphone (first business question)\n",
    "\n",
    "class WorkflowAirpodsAfterIphone:\n",
    "\n",
    "    def __init__(self):\n",
    "        pass\n",
    "\n",
    "    def runner(self):\n",
    "        \n",
    "        #Extracting required data into dictionary of dataframes\n",
    "        inputDFs=ExtractorAirpodsAfterIphone().extract()\n",
    "\n",
    "        #Transforming data as per requirement\n",
    "        firstTransform=TransformerAirpodsAfterIphone().transform(inputDFs)\n",
    "        \n",
    "        #loader\n",
    "        LoaderAirpodsAfterIphone(firstTransform).loader()\n"
   ]
  },
  {
   "cell_type": "code",
   "execution_count": 0,
   "metadata": {
    "application/vnd.databricks.v1+cell": {
     "cellMetadata": {
      "byteLimit": 2048000,
      "rowLimit": 10000
     },
     "inputWidgets": {},
     "nuid": "d6418897-eb7d-4b5b-b268-589516d5ad87",
     "showTitle": false,
     "tableResultSettingsMap": {},
     "title": ""
    }
   },
   "outputs": [],
   "source": [
    "#customers who have bought both airpods and iphone (second business question)\n",
    "class WorkflowAirpodsAndIphone:\n",
    "\n",
    "    def __init__(self):\n",
    "        pass\n",
    "\n",
    "    def runner(self):\n",
    "        \n",
    "        #Extracting required data into dictionary of dataframes\n",
    "        inputDFs=ExtractorAirpodsAfterIphone().extract() # using same extractor as first \n",
    "\n",
    "        #Transforming data as per requirement\n",
    "        secondTransform=TransformerAirpodsAndIphone().transform(inputDFs)\n",
    "        \n",
    "        #loader\n",
    "        LoaderAirpodsAndIphone(secondTransform).loader()\n"
   ]
  },
  {
   "cell_type": "code",
   "execution_count": 0,
   "metadata": {
    "application/vnd.databricks.v1+cell": {
     "cellMetadata": {
      "byteLimit": 2048000,
      "rowLimit": 10000
     },
     "inputWidgets": {},
     "nuid": "d2e9c99a-d1c6-49e1-a8f3-cf66ad838a76",
     "showTitle": false,
     "tableResultSettingsMap": {},
     "title": ""
    }
   },
   "outputs": [],
   "source": [
    "#list all products bought by customers after their initial purchase\n",
    "class WorkflowProductsAfterInitialPurchase:\n",
    "\n",
    "    def __init__(self):\n",
    "        pass\n",
    "\n",
    "    def runner(self):\n",
    "        #Extracting required data into dictionary of dataframes\n",
    "        inputDFs=ExtractorAirpodsAfterIphone().extract() #using the same extractor as first\n",
    "\n",
    "        #Transforming data as per requirement\n",
    "        thirdTransform=TransformerProductsAfterInitialPurchase().transform(inputDFs)\n",
    "            \n",
    "        #loader\n",
    "        LoaderProductsAfterInitialPurchase(thirdTransform).loader()\n"
   ]
  },
  {
   "cell_type": "code",
   "execution_count": 0,
   "metadata": {
    "application/vnd.databricks.v1+cell": {
     "cellMetadata": {
      "byteLimit": 2048000,
      "rowLimit": 10000
     },
     "inputWidgets": {},
     "nuid": "9b700e98-c395-4fd9-9cd4-b93b6a63bb10",
     "showTitle": false,
     "tableResultSettingsMap": {},
     "title": ""
    }
   },
   "outputs": [],
   "source": [
    "#average time delay between buying an iphone and airpods\n",
    "class WorkflowAvgTimeDelay:\n",
    "\n",
    "    def __init__(self):\n",
    "        pass\n",
    "\n",
    "    def runner(self):\n",
    "        #Extracting required data into dictionary of dataframes\n",
    "        inputDFs=ExtractorAvgTimeDelay().extract() #using the same extractor as first\n",
    "\n",
    "        #Transforming data as per requirement\n",
    "        fourthTransform=TransformerAvgTimeDelay().transform(inputDFs)\n",
    "            \n",
    "        #loader\n",
    "        LoaderAvgTimeDelay(fourthTransform).loader()\n",
    "        "
   ]
  },
  {
   "cell_type": "code",
   "execution_count": 0,
   "metadata": {
    "application/vnd.databricks.v1+cell": {
     "cellMetadata": {
      "byteLimit": 2048000,
      "rowLimit": 10000
     },
     "inputWidgets": {},
     "nuid": "b6a31083-3917-4489-8e22-cf6d96c03738",
     "showTitle": false,
     "tableResultSettingsMap": {},
     "title": ""
    }
   },
   "outputs": [],
   "source": [
    "#workflow runner class\n",
    "class WorkflowRunner:\n",
    "    def __init__(self,name):\n",
    "        self.name=name\n",
    "    def runner(self):\n",
    "        if self.name==\"firstWorkflow\":\n",
    "            return WorkflowAirpodsAfterIphone().runner()\n",
    "        elif self.name==\"secondWorkflow\":\n",
    "            return WorkflowAirpodsAndIphone().runner()\n",
    "        elif self.name=='thirdWorkflow':\n",
    "            return WorkflowProductsAfterInitialPurchase().runner()\n",
    "        elif self.name=='fourthWorkflow':\n",
    "            return WorkflowAvgTimeDelay().runner()\n",
    "\n",
    "workflowName=\"fourthWorkflow\" #enter the workflow name to run\n",
    "\n",
    "workflowRunner=WorkflowRunner(workflowName).runner()"
   ]
  }
 ],
 "metadata": {
  "application/vnd.databricks.v1+notebook": {
   "computePreferences": null,
   "dashboards": [],
   "environmentMetadata": {
    "base_environment": "",
    "client": "1"
   },
   "language": "python",
   "notebookMetadata": {
    "pythonIndentUnit": 4
   },
   "notebookName": "Apple_Analysis",
   "widgets": {}
  }
 },
 "nbformat": 4,
 "nbformat_minor": 0
}
