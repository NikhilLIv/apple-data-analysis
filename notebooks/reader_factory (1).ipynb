{
 "cells": [
  {
   "cell_type": "markdown",
   "metadata": {
    "application/vnd.databricks.v1+cell": {
     "cellMetadata": {},
     "inputWidgets": {},
     "nuid": "89590c63-7423-4a47-bda4-04589fdc5697",
     "showTitle": false,
     "tableResultSettingsMap": {},
     "title": ""
    }
   },
   "source": [
    "# Reader factory class notebook"
   ]
  },
  {
   "cell_type": "code",
   "execution_count": 0,
   "metadata": {
    "application/vnd.databricks.v1+cell": {
     "cellMetadata": {
      "byteLimit": 2048000,
      "rowLimit": 10000
     },
     "inputWidgets": {},
     "nuid": "daef103b-6666-465e-8d77-023c6d5438b7",
     "showTitle": false,
     "tableResultSettingsMap": {},
     "title": ""
    }
   },
   "outputs": [],
   "source": [
    "#datasource class definition\n",
    "class DataSource:\n",
    "\n",
    "    def __init__(self,path):\n",
    "        self.path=path\n",
    "    \n",
    "    def get_dataframe(self):\n",
    "        raise ValueError(\"Not Implemented\")\n",
    "\n",
    "#sub class to read a csv source\n",
    "class CSVDataSource(DataSource):\n",
    "\n",
    "    def get_dataframe(self):\n",
    "        return (\n",
    "            spark.\n",
    "            read.\n",
    "            format(\"csv\").\n",
    "            option(\"header\",True).\n",
    "            load(self.path)\n",
    "        )\n",
    "\n",
    "#sub class to read a parquet source\n",
    "class ParquetDataSource(DataSource):\n",
    "\n",
    "    def get_dataframe(self):\n",
    "        return (\n",
    "            spark.\n",
    "            read.\n",
    "            format(\"parquet\").\n",
    "            load(self.path)\n",
    "        )\n",
    "\n",
    "#sub class to read oc source\n",
    "class ORCDataSource(DataSource):\n",
    "\n",
    "    def get_dataframe(self):\n",
    "        return (\n",
    "            spark.\n",
    "            read.\n",
    "            format(\"orc\").\n",
    "            load(self.path)\n",
    "        )\n",
    "\n",
    "#sub class to read delta table source\n",
    "class DeltaDataSource(DataSource):\n",
    "\n",
    "    def get_dataframe(self):\n",
    "        table_name=self.path\n",
    "        return (\n",
    "            spark.\n",
    "            read.\n",
    "            table(table_name)\n",
    "        )\n",
    "\n",
    "#function to get source data\n",
    "def get_source_data(data_type,file_path):\n",
    "\n",
    "    if data_type=='csv':\n",
    "        return CSVDataSource(file_path)\n",
    "    elif data_type=='parquet':\n",
    "        return ParquetDataSource(file_path)\n",
    "    elif data_type=='delta':\n",
    "        return DeltaDataSource(file_path)\n",
    "    else:\n",
    "        raise ValueError(f\"Not implemented for data_type: {data_type}\")\n",
    "\n",
    "\n"
   ]
  }
 ],
 "metadata": {
  "application/vnd.databricks.v1+notebook": {
   "computePreferences": null,
   "dashboards": [],
   "environmentMetadata": {
    "base_environment": "",
    "client": "1"
   },
   "language": "python",
   "notebookMetadata": {
    "pythonIndentUnit": 4
   },
   "notebookName": "reader_factory",
   "widgets": {}
  }
 },
 "nbformat": 4,
 "nbformat_minor": 0
}
