{
 "cells": [
  {
   "cell_type": "markdown",
   "metadata": {
    "application/vnd.databricks.v1+cell": {
     "cellMetadata": {},
     "inputWidgets": {},
     "nuid": "8fd4f4d5-3873-4c57-8fa9-b1f6ab60fc23",
     "showTitle": false,
     "tableResultSettingsMap": {},
     "title": ""
    }
   },
   "source": [
    "# Loader factory class notebook"
   ]
  },
  {
   "cell_type": "code",
   "execution_count": 0,
   "metadata": {
    "application/vnd.databricks.v1+cell": {
     "cellMetadata": {
      "byteLimit": 2048000,
      "rowLimit": 10000
     },
     "inputWidgets": {},
     "nuid": "4fd1591a-9b4b-4254-9c94-0cf2cf0753b6",
     "showTitle": false,
     "tableResultSettingsMap": {},
     "title": ""
    }
   },
   "outputs": [],
   "source": [
    "#defining datasink class\n",
    "class DataSink:\n",
    "\n",
    "    def __init__(self,df,path,method,params):\n",
    "        self.df=df\n",
    "        self.path=path\n",
    "        self.method=method\n",
    "        self.params=params\n",
    "    \n",
    "    def load_dataframe(self):\n",
    "        raise ValueError(\"Not Implemented\")\n",
    "\n",
    "#sub class to load data into a DBFS path\n",
    "class LoadtoDBFS(DataSink):\n",
    "\n",
    "    def load_dataframe(self):\n",
    "        self.df.write.mode(self.method).save(self.path)\n",
    "\n",
    "#sub class to load data into a DBFS path with partition\n",
    "class LoadtoDBFSwithPartition(DataSink):\n",
    "\n",
    "    def load_dataframe(self):\n",
    "        partitionByColumns=self.params.get(\"partitionByColumns\")\n",
    "        self.df.write.partitionBy(*partitionByColumns).mode(self.method).save(self.path)\n",
    "\n",
    "#sub class to load data into a Delta table\n",
    "class LoadtoDelta(DataSink):\n",
    "\n",
    "    def load_dataframe(self):\n",
    "        self.df.write.format('delta').mode(self.method).saveAsTable(self.path)\n",
    "\n",
    "#function to load data\n",
    "def load_sink_data(sink_type,df,path,method,params=None):\n",
    "\n",
    "    if sink_type=='dbfs':\n",
    "        return LoadtoDBFS(df,path,method,params)\n",
    "    elif sink_type=='dbfs_with_partition':\n",
    "        return LoadtoDBFSwithPartition(df,path,method,params)\n",
    "    elif sink_type=='delta':\n",
    "        return LoadtoDelta(df,path,method,params)\n",
    "    else:\n",
    "        raise ValueError(f\"Not implemented for sink_type: {sink_type}\")\n",
    "\n",
    "\n"
   ]
  }
 ],
 "metadata": {
  "application/vnd.databricks.v1+notebook": {
   "computePreferences": null,
   "dashboards": [],
   "environmentMetadata": {
    "base_environment": "",
    "client": "1"
   },
   "language": "python",
   "notebookMetadata": {
    "pythonIndentUnit": 4
   },
   "notebookName": "loader_factory",
   "widgets": {}
  }
 },
 "nbformat": 4,
 "nbformat_minor": 0
}
