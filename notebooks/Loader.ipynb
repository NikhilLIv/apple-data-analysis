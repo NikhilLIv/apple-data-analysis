{
 "cells": [
  {
   "cell_type": "markdown",
   "metadata": {
    "application/vnd.databricks.v1+cell": {
     "cellMetadata": {},
     "inputWidgets": {},
     "nuid": "4dcb33d5-d868-48fd-b0d2-c08ac2f26778",
     "showTitle": false,
     "tableResultSettingsMap": {},
     "title": ""
    }
   },
   "source": [
    "# Loader class notebook"
   ]
  },
  {
   "cell_type": "code",
   "execution_count": 0,
   "metadata": {
    "application/vnd.databricks.v1+cell": {
     "cellMetadata": {
      "byteLimit": 2048000,
      "rowLimit": 10000
     },
     "inputWidgets": {},
     "nuid": "216e1a72-9dcc-4d25-b474-27b97c269813",
     "showTitle": false,
     "tableResultSettingsMap": {},
     "title": ""
    }
   },
   "outputs": [],
   "source": [
    "#running loader factory notebook\n",
    "%run \"./loader_factory\""
   ]
  },
  {
   "cell_type": "code",
   "execution_count": 0,
   "metadata": {
    "application/vnd.databricks.v1+cell": {
     "cellMetadata": {
      "byteLimit": 2048000,
      "rowLimit": 10000
     },
     "inputWidgets": {},
     "nuid": "62b35574-78f9-4cb7-978a-98395da1e9bd",
     "showTitle": false,
     "tableResultSettingsMap": {},
     "title": ""
    }
   },
   "outputs": [],
   "source": [
    "#defining loader class\n",
    "class Loader:\n",
    "    def __init__(self,df):\n",
    "        self.df=df\n",
    "\n",
    "    def loader(self):\n",
    "        pass\n",
    "\n",
    "#sub class to load the first transformation\n",
    "class LoaderAirpodsAfterIphone(Loader):\n",
    "\n",
    "    def loader(self):\n",
    "        '''Load required customer data to path as delta table'''\n",
    "        load_sink_data(\n",
    "            sink_type='dbfs',\n",
    "            df=self.df,\n",
    "            path='dbfs:/FileStore/AirPodAfterIphone',\n",
    "            method='overwrite',\n",
    "        ).load_dataframe()\n",
    "\n",
    "#sub class to load the second transformation\n",
    "class LoaderAirpodsAndIphone(Loader):\n",
    "\n",
    "    def loader(self):\n",
    "        '''Load customer data to path as delta table with partition'''\n",
    "        params={\"partitionByColumns\":[\"location\"]}\n",
    "        load_sink_data(\n",
    "            sink_type='dbfs_with_partition',\n",
    "            df=self.df,\n",
    "            path='dbfs:/FileStore/OnlyAirPodAndIphone',\n",
    "            method='overwrite',\n",
    "            params=params\n",
    "        ).load_dataframe()\n",
    "\n",
    "#sub class to load the third transformation\n",
    "class LoaderProductsAfterInitialPurchase(Loader):\n",
    "\n",
    "    def loader(self):\n",
    "        '''Load customer and product data into given path as delta table'''\n",
    "        load_sink_data(\n",
    "            sink_type='dbfs',\n",
    "            df=self.df,\n",
    "            path='dbfs:/FileStore/ProductsAfterInitialPurchase',\n",
    "            method='overwrite',\n",
    "        ).load_dataframe()\n",
    "\n",
    "#sub class to load the fourth transformation\n",
    "class LoaderAvgTimeDelay(Loader):\n",
    "\n",
    "    def loader(self):\n",
    "        '''Load tthe data as a delta table with name'''\n",
    "        load_sink_data(\n",
    "            sink_type='delta',\n",
    "            df=self.df,\n",
    "            path='AvgTimeDelay',\n",
    "            method='overwrite'\n",
    "        ).load_dataframe()"
   ]
  }
 ],
 "metadata": {
  "application/vnd.databricks.v1+notebook": {
   "computePreferences": null,
   "dashboards": [],
   "environmentMetadata": {
    "base_environment": "",
    "client": "1"
   },
   "language": "python",
   "notebookMetadata": {
    "pythonIndentUnit": 4
   },
   "notebookName": "Loader",
   "widgets": {}
  }
 },
 "nbformat": 4,
 "nbformat_minor": 0
}
